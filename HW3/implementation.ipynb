{
 "cells": [
  {
   "cell_type": "code",
   "execution_count": 1,
   "metadata": {},
   "outputs": [],
   "source": [
    "#import statements\n",
    "from SCAD import SCADLinear\n",
    "from OtherClasses import ElasticNet, SqrtLasso\n",
    "\n",
    "import torch\n",
    "import pandas as pd\n",
    "from scipy.linalg import toeplitz\n",
    "\n",
    "import numpy as np\n",
    "import pandas as pd\n",
    "from sklearn.metrics import mean_squared_error as mse\n",
    "from sklearn.preprocessing import StandardScaler, MinMaxScaler\n",
    "\n",
    "import matplotlib.pyplot as plt\n",
    "\n",
    "from sklearn.preprocessing import PolynomialFeatures\n",
    "from sklearn.model_selection import KFold\n",
    "import itertools"
   ]
  },
  {
   "cell_type": "code",
   "execution_count": 77,
   "metadata": {},
   "outputs": [],
   "source": [
    "device = torch.device(\"cpu\")\n",
    "dtype = torch.float64"
   ]
  },
  {
   "cell_type": "markdown",
   "metadata": {},
   "source": [
    "## Part 1 - SCAD Implementation"
   ]
  },
  {
   "cell_type": "code",
   "execution_count": 78,
   "metadata": {},
   "outputs": [],
   "source": [
    "# load in data\n",
    "data = pd.read_csv('./data/concrete.csv')\n",
    "X = data.drop(columns='strength').values\n",
    "y = data['strength'].values"
   ]
  },
  {
   "cell_type": "code",
   "execution_count": 79,
   "metadata": {},
   "outputs": [
    {
     "name": "stdout",
     "output_type": "stream",
     "text": [
      "(1030, 8)\n",
      "torch.Size([1030, 8])\n",
      "torch.Size([1030])\n"
     ]
    }
   ],
   "source": [
    "# scale data\n",
    "scaler = StandardScaler()\n",
    "xscaled = scaler.fit_transform(X)\n",
    "print(xscaled.shape)\n",
    "\n",
    "# convert to pytorch tensor\n",
    "x_tensor = torch.tensor(xscaled, dtype=dtype)\n",
    "print(x_tensor.shape)\n",
    "y_tensor = torch.tensor(y, dtype=dtype)\n",
    "print(y_tensor.shape)"
   ]
  },
  {
   "cell_type": "code",
   "execution_count": 80,
   "metadata": {},
   "outputs": [
    {
     "name": "stdout",
     "output_type": "stream",
     "text": [
      "Epoch [1000/2000], Loss: 107.22723607418962\n",
      "Epoch [2000/2000], Loss: 107.22723607418962\n"
     ]
    }
   ],
   "source": [
    "# create model with SCADLinear class\n",
    "model = SCADLinear(input_size=x_tensor.shape[1], lambda_val=0.1, a_val=5)\n",
    "# fit model and run with hyperparams num_epochs and lr\n",
    "model.fit(X=x_tensor, y=y_tensor.unsqueeze(1), num_epochs= 2000, learning_rate=0.3)"
   ]
  },
  {
   "cell_type": "code",
   "execution_count": 81,
   "metadata": {},
   "outputs": [
    {
     "data": {
      "text/plain": [
       "107.19723607486017"
      ]
     },
     "execution_count": 81,
     "metadata": {},
     "output_type": "execute_result"
    }
   ],
   "source": [
    "# create a set of predictions for the model\n",
    "prediction = model.predict(x_tensor)\n",
    "# print mse for each actual target value and each predicted value\n",
    "mse(y_tensor, prediction)"
   ]
  },
  {
   "cell_type": "code",
   "execution_count": 82,
   "metadata": {},
   "outputs": [
    {
     "data": {
      "text/plain": [
       "Parameter containing:\n",
       "tensor([[12.5142,  8.9571,  5.6248, -3.1998,  1.7449,  1.4056,  1.6180,  7.2119]],\n",
       "       dtype=torch.float64, requires_grad=True)"
      ]
     },
     "execution_count": 82,
     "metadata": {},
     "output_type": "execute_result"
    }
   ],
   "source": [
    "# check coefficients from the model to see which features have the most impact\n",
    "model.get_coefficients()\n",
    "# in this case, cement, slag, age, ash and water are strong predictors\n",
    "# The weaker predictors are superplastic, coarseagg, and fineagg"
   ]
  },
  {
   "cell_type": "markdown",
   "metadata": {},
   "source": [
    "#### Now we want to find the best possible lambda value for our model"
   ]
  },
  {
   "cell_type": "code",
   "execution_count": 83,
   "metadata": {},
   "outputs": [
    {
     "name": "stdout",
     "output_type": "stream",
     "text": [
      "Epoch [1000/1000], Loss: 107.2322360750092\n",
      "Epoch [1000/1000], Loss: 107.33723607545622\n",
      "Epoch [1000/1000], Loss: 107.51223607247599\n",
      "Epoch [1000/1000], Loss: 107.75723607724437\n",
      "Epoch [1000/1000], Loss: 108.07223607486017\n",
      "Epoch [1000/1000], Loss: 108.45723606532343\n",
      "Epoch [1000/1000], Loss: 108.91223610823879\n",
      "Epoch [1000/1000], Loss: 109.43723608439693\n",
      "Epoch [1000/1000], Loss: 110.03223611300716\n",
      "Epoch [1000/1000], Loss: 110.69723607486017\n",
      "Epoch [1000/1000], Loss: 111.43223620837459\n",
      "Epoch [1000/1000], Loss: 112.2372360367132\n",
      "Epoch [1000/1000], Loss: 113.11223603671321\n",
      "Epoch [1000/1000], Loss: 114.05723620837462\n",
      "Epoch [1000/1000], Loss: 115.07158786891148\n",
      "Epoch [1000/1000], Loss: 116.00547414059331\n",
      "Epoch [1000/1000], Loss: 116.7449537742417\n",
      "Epoch [1000/1000], Loss: 117.2900273269448\n",
      "Epoch [1000/1000], Loss: 117.64069367021696\n",
      "Epoch [1000/1000], Loss: 117.83451764740109\n",
      "Epoch [1000/1000], Loss: 117.98434116334414\n",
      "Epoch [1000/1000], Loss: 118.09777986379349\n",
      "Epoch [1000/1000], Loss: 118.17483374874911\n",
      "Epoch [1000/1000], Loss: 118.21550281821102\n",
      "Epoch [1000/1000], Loss: 118.23527512321328\n",
      "Epoch [1000/1000], Loss: 120.70711287056203\n",
      "Epoch [1000/1000], Loss: 118.26860101979152\n",
      "Epoch [1000/1000], Loss: 118.57972379971274\n",
      "Epoch [1000/1000], Loss: 118.4321989574261\n",
      "Epoch [1000/1000], Loss: 118.41572150686251\n",
      "Epoch [1000/1000], Loss: 118.77428272608331\n",
      "Epoch [1000/1000], Loss: 118.34123057755922\n",
      "Epoch [1000/1000], Loss: 122.56502513758635\n",
      "Epoch [1000/1000], Loss: 118.518603085262\n",
      "Epoch [1000/1000], Loss: 118.48318160960889\n",
      "Epoch [1000/1000], Loss: 118.58174635895355\n",
      "Epoch [1000/1000], Loss: 119.08804977846667\n",
      "Epoch [1000/1000], Loss: 118.65277922991767\n",
      "Epoch [1000/1000], Loss: 118.73068108949556\n",
      "Epoch [1000/1000], Loss: 124.95118303015596\n",
      "Epoch [1000/1000], Loss: 118.82259960656081\n",
      "Epoch [1000/1000], Loss: 119.47596578265865\n",
      "Epoch [1000/1000], Loss: 119.09134725609609\n",
      "Epoch [1000/1000], Loss: 119.89336910271976\n",
      "Epoch [1000/1000], Loss: 119.8023247536846\n",
      "Epoch [1000/1000], Loss: 127.10629211590646\n",
      "Epoch [1000/1000], Loss: 118.81039048589864\n",
      "Epoch [1000/1000], Loss: 127.96353104884192\n",
      "Epoch [1000/1000], Loss: 119.95504379120958\n",
      "Epoch [1000/1000], Loss: 129.40221884084892\n",
      "Epoch [1000/1000], Loss: 119.27446618658657\n",
      "Epoch [1000/1000], Loss: 119.06535584159015\n",
      "Epoch [1000/1000], Loss: 131.04375543055426\n",
      "Epoch [1000/1000], Loss: 120.2169320596358\n",
      "Epoch [1000/1000], Loss: 132.00747875133726\n",
      "Epoch [1000/1000], Loss: 120.85264303876771\n",
      "Epoch [1000/1000], Loss: 119.49242717044262\n",
      "Epoch [1000/1000], Loss: 120.66556284398631\n",
      "Epoch [1000/1000], Loss: 134.37006372693577\n",
      "Epoch [1000/1000], Loss: 120.82353878093949\n",
      "Epoch [1000/1000], Loss: 119.69968250470943\n",
      "Epoch [1000/1000], Loss: 121.55258553992176\n",
      "Epoch [1000/1000], Loss: 120.11240245222331\n",
      "Epoch [1000/1000], Loss: 121.43559160059351\n",
      "Epoch [1000/1000], Loss: 136.899835099961\n",
      "Epoch [1000/1000], Loss: 120.489146237772\n",
      "Epoch [1000/1000], Loss: 119.9856991697514\n",
      "Epoch [1000/1000], Loss: 119.46121212234046\n",
      "Epoch [1000/1000], Loss: 126.74734741898459\n",
      "Epoch [1000/1000], Loss: 125.98464552020727\n",
      "Epoch [1000/1000], Loss: 138.9429039159205\n",
      "Epoch [1000/1000], Loss: 140.53329241494637\n",
      "Epoch [1000/1000], Loss: 126.00390882881645\n",
      "Epoch [1000/1000], Loss: 121.57537907735927\n",
      "Epoch [1000/1000], Loss: 126.623297837617\n",
      "Epoch [1000/1000], Loss: 141.6405429899332\n",
      "Epoch [1000/1000], Loss: 142.94311241075846\n",
      "Epoch [1000/1000], Loss: 128.97370512664477\n",
      "Epoch [1000/1000], Loss: 120.47401724001791\n",
      "Epoch [1000/1000], Loss: 128.88248006685725\n",
      "Epoch [1000/1000], Loss: 131.31914146985815\n",
      "Epoch [1000/1000], Loss: 150.4906925039628\n",
      "Epoch [1000/1000], Loss: 150.92742986607442\n",
      "Epoch [1000/1000], Loss: 152.28320436168565\n",
      "Epoch [1000/1000], Loss: 148.9743754702491\n",
      "Epoch [1000/1000], Loss: 153.27729975132303\n",
      "Epoch [1000/1000], Loss: 150.24718565653123\n",
      "Epoch [1000/1000], Loss: 133.71652722205081\n",
      "Epoch [1000/1000], Loss: 122.63452866537925\n",
      "Epoch [1000/1000], Loss: 123.0997332842239\n",
      "Epoch [1000/1000], Loss: 132.8153776802516\n",
      "Epoch [1000/1000], Loss: 153.44123922634216\n",
      "Epoch [1000/1000], Loss: 159.81842696350577\n",
      "Epoch [1000/1000], Loss: 123.45934791734517\n",
      "Epoch [1000/1000], Loss: 155.0057518914915\n",
      "Epoch [1000/1000], Loss: 134.66661886884046\n",
      "Epoch [1000/1000], Loss: 164.1780527266508\n",
      "Epoch [1000/1000], Loss: 135.98360700538882\n",
      "Epoch [1000/1000], Loss: 159.5011496672564\n"
     ]
    }
   ],
   "source": [
    "# search for best lambda value\n",
    "# this was done as my functions are not scikit compliant, so no GridSearchCV\n",
    "lambda_vals = np.arange(0.1,10,0.1)\n",
    "each_mse = []\n",
    "\n",
    "# append scores to each_mse\n",
    "for i in lambda_vals:\n",
    "    model = SCADLinear(input_size= x_tensor.shape[1], lambda_val= i, a_val=6)\n",
    "    model.fit(X=x_tensor, y=y_tensor.unsqueeze(1), num_epochs = 1000, learning_rate = 0.3)\n",
    "    each_mse.append(mse(y_tensor, model.predict(x_tensor)))"
   ]
  },
  {
   "cell_type": "markdown",
   "metadata": {},
   "source": [
    "#### Figure for part 1"
   ]
  },
  {
   "cell_type": "code",
   "execution_count": 84,
   "metadata": {},
   "outputs": [
    {
     "data": {
      "text/plain": [
       "Text(0, 0.5, 'MSE')"
      ]
     },
     "execution_count": 84,
     "metadata": {},
     "output_type": "execute_result"
    },
    {
     "data": {
      "image/png": "[encoded data removed]",
      "text/plain": [
       "<Figure size 640x480 with 1 Axes>"
      ]
     },
     "metadata": {},
     "output_type": "display_data"
    }
   ],
   "source": [
    "# plot mse score for each lambda value\n",
    "fig, ax = plt.subplots()\n",
    "ax.plot(lambda_vals, each_mse)\n",
    "plt.xlabel('Possible values for lambda')\n",
    "plt.ylabel('MSE')"
   ]
  },
  {
   "cell_type": "markdown",
   "metadata": {},
   "source": [
    "We see that our best lambda values lie between 0 and roughly 1.5"
   ]
  },
  {
   "cell_type": "markdown",
   "metadata": {},
   "source": [
    "## Part 2 - Compare SCAD with ElasticNet, sqrtLasso"
   ]
  },
  {
   "cell_type": "code",
   "execution_count": 85,
   "metadata": {},
   "outputs": [],
   "source": [
    "# function to make n datasets with correlated features\n",
    "def make_correlated_features(num_samples,p,rho):\n",
    "  vcor = [] \n",
    "  for i in range(p):\n",
    "    vcor.append(rho**i)\n",
    "  r = toeplitz(vcor)\n",
    "  mu = np.repeat(0,p)\n",
    "  x = np.random.multivariate_normal(mu, r, size=num_samples)\n",
    "  return x"
   ]
  },
  {
   "cell_type": "code",
   "execution_count": 86,
   "metadata": {},
   "outputs": [],
   "source": [
    "num_samp = 200 # num observations\n",
    "num_features = 8 # num features in data\n",
    "corr_coeff = 0.9 # set a strong correlation between features\n",
    "\n",
    "x = make_correlated_features(num_samp,num_features,corr_coeff)"
   ]
  },
  {
   "cell_type": "code",
   "execution_count": 87,
   "metadata": {},
   "outputs": [],
   "source": [
    "# create sparcity pattern\n",
    "beta = np.array([-1,2,3,0,0,2,-1])\n",
    "beta = beta.reshape(-1,1)\n",
    "# turn into matrix for multiplication\n",
    "betastar = np.concatenate([beta,np.repeat(0,num_features-len(beta)).reshape(-1,1)],axis=0)"
   ]
  },
  {
   "cell_type": "code",
   "execution_count": 88,
   "metadata": {},
   "outputs": [],
   "source": [
    "# set y to multiply x and betastar matrices\n",
    "y = x@betastar + 1.5*np.random.normal(size=(num_samp,1))"
   ]
  },
  {
   "cell_type": "code",
   "execution_count": 89,
   "metadata": {},
   "outputs": [],
   "source": [
    "# convert to tensors\n",
    "x = torch.tensor(x,device=device)\n",
    "y = torch.tensor(y,device=device)"
   ]
  },
  {
   "cell_type": "code",
   "execution_count": 90,
   "metadata": {},
   "outputs": [
    {
     "name": "stdout",
     "output_type": "stream",
     "text": [
      "Epoch [100/2000], Loss: 1.7686034707100609\n",
      "Epoch [200/2000], Loss: 1.547509818414172\n",
      "Epoch [300/2000], Loss: 1.4450635480767298\n",
      "Epoch [400/2000], Loss: 1.3739252705234646\n",
      "Epoch [500/2000], Loss: 1.3190112624343042\n",
      "Epoch [600/2000], Loss: 1.2763439665257514\n",
      "Epoch [700/2000], Loss: 1.242563301448177\n",
      "Epoch [800/2000], Loss: 1.214867335337031\n",
      "Epoch [900/2000], Loss: 1.1920634037185964\n",
      "Epoch [1000/2000], Loss: 1.1732259521187522\n",
      "Epoch [1100/2000], Loss: 1.1576229051086098\n",
      "Epoch [1200/2000], Loss: 1.1446687978748604\n",
      "Epoch [1300/2000], Loss: 1.133891716307954\n",
      "Epoch [1400/2000], Loss: 1.1249089802145182\n",
      "Epoch [1500/2000], Loss: 1.117408803855252\n",
      "Epoch [1600/2000], Loss: 1.1111362030420602\n",
      "Epoch [1700/2000], Loss: 1.1058820037453743\n",
      "Epoch [1800/2000], Loss: 1.1014741683859974\n",
      "Epoch [1900/2000], Loss: 1.0977708876897974\n",
      "Epoch [2000/2000], Loss: 1.0946550389487177\n"
     ]
    }
   ],
   "source": [
    "# elastic net model\n",
    "enet_model = ElasticNet(input_size=x.shape[1],alpha=0.01,l1_ratio=0.5)\n",
    "enet_model.fit(x,y,num_epochs=2000,learning_rate=0.01)"
   ]
  },
  {
   "cell_type": "code",
   "execution_count": 91,
   "metadata": {},
   "outputs": [
    {
     "name": "stdout",
     "output_type": "stream",
     "text": [
      "Epoch [100/2000], Loss: 2.3478517093560836\n"
     ]
    },
    {
     "name": "stdout",
     "output_type": "stream",
     "text": [
      "Epoch [200/2000], Loss: 1.9086950080797431\n",
      "Epoch [300/2000], Loss: 1.785236612579972\n",
      "Epoch [400/2000], Loss: 1.6951819021910461\n",
      "Epoch [500/2000], Loss: 1.6199942923672062\n",
      "Epoch [600/2000], Loss: 1.571374350093146\n",
      "Epoch [700/2000], Loss: 1.538650486091581\n",
      "Epoch [800/2000], Loss: 1.518233936456304\n",
      "Epoch [900/2000], Loss: 1.505861208015853\n",
      "Epoch [1000/2000], Loss: 1.498881545679566\n",
      "Epoch [1100/2000], Loss: 1.495222876993509\n",
      "Epoch [1200/2000], Loss: 1.494075883152405\n",
      "Epoch [1300/2000], Loss: 1.4936442643116425\n",
      "Epoch [1400/2000], Loss: 1.493456017714324\n",
      "Epoch [1500/2000], Loss: 1.4933730911123801\n",
      "Epoch [1600/2000], Loss: 1.4933355770423309\n",
      "Epoch [1700/2000], Loss: 1.4933200612492248\n",
      "Epoch [1800/2000], Loss: 1.4933142790747944\n",
      "Epoch [1900/2000], Loss: 1.4933188073982584\n",
      "Epoch [2000/2000], Loss: 1.4933145019092688\n"
     ]
    }
   ],
   "source": [
    "# sqrtlasso model\n",
    "sqlasso_model = SqrtLasso(input_size=x.shape[1],alpha=0.01)\n",
    "sqlasso_model.fit(x,y,num_epochs=2000,learning_rate=0.01)"
   ]
  },
  {
   "cell_type": "code",
   "execution_count": 92,
   "metadata": {},
   "outputs": [
    {
     "name": "stdout",
     "output_type": "stream",
     "text": [
      "Epoch [1000/2000], Loss: 1.9953787617581293\n",
      "Epoch [2000/2000], Loss: 1.9541988899914502\n"
     ]
    }
   ],
   "source": [
    "# scadlinear model\n",
    "scad_model = SCADLinear(input_size=x_tensor.shape[1], lambda_val=0.001, a_val=8)\n",
    "scad_model.fit(x,y,num_epochs=2000,learning_rate=0.01)"
   ]
  },
  {
   "cell_type": "code",
   "execution_count": 93,
   "metadata": {},
   "outputs": [
    {
     "name": "stdout",
     "output_type": "stream",
     "text": [
      "model: SCADLinear(\n",
      "  (linear): Linear(in_features=8, out_features=1, bias=True)\n",
      ")\n",
      "score: 1597.1937244368708\n",
      "model: ElasticNet(\n",
      "  (linear): Linear(in_features=8, out_features=1, bias=False)\n",
      ")\n",
      "score: 1594.2803077149686\n",
      "model: SqrtLasso(\n",
      "  (linear): Linear(in_features=8, out_features=1, bias=False)\n",
      ")\n",
      "score: 1599.2401349213467\n"
     ]
    }
   ],
   "source": [
    "# print scores for each model\n",
    "for model in [scad_model, enet_model, sqlasso_model]:\n",
    "    score = mse(y_tensor.detach(), model.predict(x_tensor).detach())\n",
    "    print(f'model: {model}\\nscore: {score}')"
   ]
  },
  {
   "cell_type": "code",
   "execution_count": 94,
   "metadata": {},
   "outputs": [
    {
     "data": {
      "text/html": [
       "<div>\n",
       "<style scoped>\n",
       "    .dataframe tbody tr th:only-of-type {\n",
       "        vertical-align: middle;\n",
       "    }\n",
       "\n",
       "    .dataframe tbody tr th {\n",
       "        vertical-align: top;\n",
       "    }\n",
       "\n",
       "    .dataframe thead th {\n",
       "        text-align: right;\n",
       "    }\n",
       "</style>\n",
       "<table border=\"1\" class=\"dataframe\">\n",
       "  <thead>\n",
       "    <tr style=\"text-align: right;\">\n",
       "      <th></th>\n",
       "      <th>Original coefficients</th>\n",
       "      <th>SCADLinear</th>\n",
       "      <th>ElasticNet</th>\n",
       "      <th>SqrtLasso</th>\n",
       "    </tr>\n",
       "  </thead>\n",
       "  <tbody>\n",
       "    <tr>\n",
       "      <th>0</th>\n",
       "      <td>-1</td>\n",
       "      <td>-1.195143</td>\n",
       "      <td>-0.843144</td>\n",
       "      <td>-1.105371</td>\n",
       "    </tr>\n",
       "    <tr>\n",
       "      <th>1</th>\n",
       "      <td>2</td>\n",
       "      <td>2.819058</td>\n",
       "      <td>2.468643</td>\n",
       "      <td>2.744691</td>\n",
       "    </tr>\n",
       "    <tr>\n",
       "      <th>2</th>\n",
       "      <td>3</td>\n",
       "      <td>2.812499</td>\n",
       "      <td>2.643758</td>\n",
       "      <td>2.742358</td>\n",
       "    </tr>\n",
       "    <tr>\n",
       "      <th>3</th>\n",
       "      <td>0</td>\n",
       "      <td>-0.016159</td>\n",
       "      <td>0.163928</td>\n",
       "      <td>-0.000252</td>\n",
       "    </tr>\n",
       "    <tr>\n",
       "      <th>4</th>\n",
       "      <td>0</td>\n",
       "      <td>-0.175675</td>\n",
       "      <td>0.006071</td>\n",
       "      <td>-0.042879</td>\n",
       "    </tr>\n",
       "    <tr>\n",
       "      <th>5</th>\n",
       "      <td>2</td>\n",
       "      <td>1.632564</td>\n",
       "      <td>1.242172</td>\n",
       "      <td>1.479681</td>\n",
       "    </tr>\n",
       "    <tr>\n",
       "      <th>6</th>\n",
       "      <td>-1</td>\n",
       "      <td>-0.701910</td>\n",
       "      <td>-0.409752</td>\n",
       "      <td>-0.653794</td>\n",
       "    </tr>\n",
       "    <tr>\n",
       "      <th>7</th>\n",
       "      <td>0</td>\n",
       "      <td>-0.020856</td>\n",
       "      <td>-0.106701</td>\n",
       "      <td>0.000081</td>\n",
       "    </tr>\n",
       "  </tbody>\n",
       "</table>\n",
       "</div>"
      ],
      "text/plain": [
       "   Original coefficients  SCADLinear  ElasticNet  SqrtLasso\n",
       "0                     -1   -1.195143   -0.843144  -1.105371\n",
       "1                      2    2.819058    2.468643   2.744691\n",
       "2                      3    2.812499    2.643758   2.742358\n",
       "3                      0   -0.016159    0.163928  -0.000252\n",
       "4                      0   -0.175675    0.006071  -0.042879\n",
       "5                      2    1.632564    1.242172   1.479681\n",
       "6                     -1   -0.701910   -0.409752  -0.653794\n",
       "7                      0   -0.020856   -0.106701   0.000081"
      ]
     },
     "execution_count": 94,
     "metadata": {},
     "output_type": "execute_result"
    }
   ],
   "source": [
    "# create dictionary with coefficients from each model\n",
    "coefficients = {'Original coefficients': betastar.flatten(),\n",
    "                'SCADLinear': scad_model.get_coefficients().detach().numpy().flatten(),\n",
    "                'ElasticNet': enet_model.get_coefficients().detach().numpy().flatten(),\n",
    "                'SqrtLasso': sqlasso_model.get_coefficients().detach().numpy().flatten()}\n",
    "# convert to pd dataframe and show\n",
    "coef_df = pd.DataFrame(coefficients)\n",
    "coef_df"
   ]
  },
  {
   "cell_type": "code",
   "execution_count": 119,
   "metadata": {},
   "outputs": [
    {
     "data": {
      "text/html": [
       "<div>\n",
       "<style scoped>\n",
       "    .dataframe tbody tr th:only-of-type {\n",
       "        vertical-align: middle;\n",
       "    }\n",
       "\n",
       "    .dataframe tbody tr th {\n",
       "        vertical-align: top;\n",
       "    }\n",
       "\n",
       "    .dataframe thead th {\n",
       "        text-align: right;\n",
       "    }\n",
       "</style>\n",
       "<table border=\"1\" class=\"dataframe\">\n",
       "  <thead>\n",
       "    <tr style=\"text-align: right;\">\n",
       "      <th></th>\n",
       "      <th>Original coefficients</th>\n",
       "      <th>SCADLinear</th>\n",
       "      <th>ElasticNet</th>\n",
       "      <th>SqrtLasso</th>\n",
       "    </tr>\n",
       "  </thead>\n",
       "  <tbody>\n",
       "    <tr>\n",
       "      <th>0</th>\n",
       "      <td>0</td>\n",
       "      <td>0.195143</td>\n",
       "      <td>0.156856</td>\n",
       "      <td>0.105371</td>\n",
       "    </tr>\n",
       "    <tr>\n",
       "      <th>1</th>\n",
       "      <td>0</td>\n",
       "      <td>0.819058</td>\n",
       "      <td>0.468643</td>\n",
       "      <td>0.744691</td>\n",
       "    </tr>\n",
       "    <tr>\n",
       "      <th>2</th>\n",
       "      <td>0</td>\n",
       "      <td>0.187501</td>\n",
       "      <td>0.356242</td>\n",
       "      <td>0.257642</td>\n",
       "    </tr>\n",
       "    <tr>\n",
       "      <th>3</th>\n",
       "      <td>0</td>\n",
       "      <td>0.016159</td>\n",
       "      <td>0.163928</td>\n",
       "      <td>0.000252</td>\n",
       "    </tr>\n",
       "    <tr>\n",
       "      <th>4</th>\n",
       "      <td>0</td>\n",
       "      <td>0.175675</td>\n",
       "      <td>0.006071</td>\n",
       "      <td>0.042879</td>\n",
       "    </tr>\n",
       "    <tr>\n",
       "      <th>5</th>\n",
       "      <td>0</td>\n",
       "      <td>0.367436</td>\n",
       "      <td>0.757828</td>\n",
       "      <td>0.520319</td>\n",
       "    </tr>\n",
       "    <tr>\n",
       "      <th>6</th>\n",
       "      <td>0</td>\n",
       "      <td>0.298090</td>\n",
       "      <td>0.590248</td>\n",
       "      <td>0.346206</td>\n",
       "    </tr>\n",
       "    <tr>\n",
       "      <th>7</th>\n",
       "      <td>0</td>\n",
       "      <td>0.020856</td>\n",
       "      <td>0.106701</td>\n",
       "      <td>0.000081</td>\n",
       "    </tr>\n",
       "  </tbody>\n",
       "</table>\n",
       "</div>"
      ],
      "text/plain": [
       "   Original coefficients  SCADLinear  ElasticNet  SqrtLasso\n",
       "0                      0    0.195143    0.156856   0.105371\n",
       "1                      0    0.819058    0.468643   0.744691\n",
       "2                      0    0.187501    0.356242   0.257642\n",
       "3                      0    0.016159    0.163928   0.000252\n",
       "4                      0    0.175675    0.006071   0.042879\n",
       "5                      0    0.367436    0.757828   0.520319\n",
       "6                      0    0.298090    0.590248   0.346206\n",
       "7                      0    0.020856    0.106701   0.000081"
      ]
     },
     "execution_count": 119,
     "metadata": {},
     "output_type": "execute_result"
    }
   ],
   "source": [
    "# create dataframe with absolute difference from original coeff for each model\n",
    "absolute_difference = coef_df.sub(coef_df['Original coefficients'], axis=0).abs()\n",
    "absolute_difference"
   ]
  },
  {
   "cell_type": "markdown",
   "metadata": {},
   "source": [
    "#### Figure for part 2"
   ]
  },
  {
   "cell_type": "code",
   "execution_count": 96,
   "metadata": {},
   "outputs": [
    {
     "name": "stderr",
     "output_type": "stream",
     "text": [
      "/var/folders/mq/89drrdjd1cv8ckjx8ljd6pm40000gn/T/ipykernel_5214/797264991.py:3: UserWarning: The label '_' of <BarContainer object of 8 artists> starts with '_'. It is thus excluded from the legend.\n",
      "  plt.legend(['_', 'SCADLinear', 'ElasticNet', 'SqrtLasso'])\n"
     ]
    },
    {
     "data": {
      "text/plain": [
       "Text(0, 0.5, 'Absolute difference from betastar')"
      ]
     },
     "execution_count": 96,
     "metadata": {},
     "output_type": "execute_result"
    },
    {
     "data": {
      "image/png": "[encoded data removed]",
      "text/plain": [
       "<Figure size 640x480 with 1 Axes>"
      ]
     },
     "metadata": {},
     "output_type": "display_data"
    }
   ],
   "source": [
    "# plot absolute difference from betastar\n",
    "absolute_difference.plot(kind='bar')\n",
    "plt.legend(['_', 'SCADLinear', 'ElasticNet', 'SqrtLasso'])\n",
    "plt.xlabel('Feature Number')\n",
    "plt.ylabel('Absolute difference from betastar')"
   ]
  },
  {
   "cell_type": "markdown",
   "metadata": {},
   "source": [
    "Here, we can see that SCAD performs better when the beta value != 0. However, when the beta value for the feature is set to 0, we see that both ElasticNet and SqrtLasso perform better"
   ]
  },
  {
   "cell_type": "markdown",
   "metadata": {},
   "source": [
    "### Part 3 - Quadratic Interaction Terms"
   ]
  },
  {
   "cell_type": "code",
   "execution_count": 97,
   "metadata": {},
   "outputs": [],
   "source": [
    "# read in data\n",
    "data = pd.read_csv('./data/concrete.csv')\n",
    "\n",
    "x = data.drop(columns='strength').values\n",
    "y = data['strength'].values\n",
    "\n",
    "# transform the data to include the quadratic terms\n",
    "polynomial = PolynomialFeatures(degree=2, include_bias=False)\n",
    "x_polynomial = polynomial.fit_transform(x)"
   ]
  },
  {
   "cell_type": "code",
   "execution_count": 99,
   "metadata": {},
   "outputs": [],
   "source": [
    "# create scaler and fit to data\n",
    "scaler = MinMaxScaler()\n",
    "xscaled = scaler.fit_transform(x_polynomial)\n",
    "\n",
    "# convert to tensor\n",
    "x_tensor = torch.tensor(xscaled, dtype= dtype)\n",
    "y_tensor = torch.tensor(y, dtype= dtype)"
   ]
  },
  {
   "cell_type": "code",
   "execution_count": 100,
   "metadata": {},
   "outputs": [
    {
     "name": "stdout",
     "output_type": "stream",
     "text": [
      "Epoch [1000/1000], Loss: 69.89262443841983\n",
      "Epoch [1000/1000], Loss: nan\n",
      "Epoch [1000/1000], Loss: 69.90097373947233\n",
      "Epoch [1000/1000], Loss: 69.88982275264517\n",
      "Epoch [1000/1000], Loss: 69.89831013829392\n",
      "Epoch [1000/1000], Loss: 69.89993904275266\n",
      "Epoch [1000/1000], Loss: 69.9330189629832\n",
      "Epoch [1000/1000], Loss: 69.87954650578857\n",
      "Epoch [1000/1000], Loss: 69.9073733608343\n",
      "Epoch [1000/1000], Loss: nan\n",
      "Epoch [1000/1000], Loss: 69.89757414379348\n",
      "Epoch [1000/1000], Loss: 69.91131151318974\n",
      "Epoch [1000/1000], Loss: 69.89088018062742\n",
      "Epoch [1000/1000], Loss: 69.86402849598194\n",
      "Epoch [1000/1000], Loss: 69.89588759348652\n",
      "Epoch [1000/1000], Loss: 69.88577693313862\n",
      "Epoch [1000/1000], Loss: 69.88710148260607\n",
      "Epoch [1000/1000], Loss: nan\n",
      "Epoch [1000/1000], Loss: 69.92614174515087\n",
      "Epoch [1000/1000], Loss: 69.90768650445519\n",
      "Epoch [1000/1000], Loss: 69.91480805933581\n",
      "Epoch [1000/1000], Loss: 69.91641297258354\n",
      "Epoch [1000/1000], Loss: 69.91231318266934\n",
      "Epoch [1000/1000], Loss: 69.9112679385383\n",
      "Epoch [1000/1000], Loss: 69.90047592439446\n",
      "Epoch [1000/1000], Loss: nan\n",
      "Epoch [1000/1000], Loss: 69.90738893327237\n",
      "Epoch [1000/1000], Loss: 69.88967641764292\n",
      "Epoch [1000/1000], Loss: 69.8882750008075\n",
      "Epoch [1000/1000], Loss: 69.9314895150392\n",
      "Epoch [1000/1000], Loss: 69.88054503363085\n",
      "Epoch [1000/1000], Loss: 69.86111245644089\n",
      "Epoch [1000/1000], Loss: 69.92654300231206\n",
      "Epoch [1000/1000], Loss: nan\n",
      "Epoch [1000/1000], Loss: 69.89751003192119\n",
      "Epoch [1000/1000], Loss: 69.89687548276373\n",
      "Epoch [1000/1000], Loss: 69.90675511294961\n",
      "Epoch [1000/1000], Loss: 69.93709333870589\n",
      "Epoch [1000/1000], Loss: 69.9331028790309\n",
      "Epoch [1000/1000], Loss: 69.93764402863275\n"
     ]
    }
   ],
   "source": [
    "# attempt to find best values for lambda and a\n",
    "lambda_vals = np.arange(0, 0.1, 0.02)\n",
    "a_vals = np.arange(0, 8, 1)\n",
    "\n",
    "# create a grid of parameters with possible lambda and a values\n",
    "param_grid = list(itertools.product(lambda_vals, a_vals))\n",
    "# empty list to store scores for each set of values\n",
    "scores = []\n",
    "# iterate to get scores for each set of values\n",
    "for lambda_val,a_val in param_grid:\n",
    "    model = SCADLinear(input_size = x_tensor.shape[1], lambda_val = lambda_val, a_val = a_val)\n",
    "    model.fit(x_tensor, y_tensor.unsqueeze(1), num_epochs = 1000, learning_rate = 0.1)\n",
    "    try:\n",
    "        scores.append(mse(y_tensor, model.predict(x_tensor)))\n",
    "    except ValueError as e: # was getting an error so I used a try/except block\n",
    "        pass"
   ]
  },
  {
   "cell_type": "code",
   "execution_count": 101,
   "metadata": {},
   "outputs": [
    {
     "data": {
      "text/plain": [
       "[69.83774052522278,\n",
       " 69.85384041475514,\n",
       " 69.85895091489998,\n",
       " 69.87027403103919,\n",
       " 69.87053294781107,\n",
       " 69.87346597179292,\n",
       " 69.87508575546262,\n",
       " 69.87517682599344,\n",
       " 69.87728905487297,\n",
       " 69.87889994751792,\n",
       " 69.88081387867707,\n",
       " 69.88086724581096,\n",
       " 69.88174813570038,\n",
       " 69.8836139869804,\n",
       " 69.88548518834583,\n",
       " 69.88796488867709,\n",
       " 69.88929015605,\n",
       " 69.88965160109755,\n",
       " 69.89091906533834,\n",
       " 69.891952558687,\n",
       " 69.89295863822139,\n",
       " 69.89546377573349,\n",
       " 69.89584492269174,\n",
       " 69.89770069151774,\n",
       " 69.89813831670384,\n",
       " 69.90149214836903,\n",
       " 69.90167216310442,\n",
       " 69.90177520618847,\n",
       " 69.90259007356492,\n",
       " 69.90301942522629,\n",
       " 69.90886588786026,\n",
       " 69.91164517815895,\n",
       " 69.91431557728217,\n",
       " 69.91469948711855,\n",
       " 69.92397616735641]"
      ]
     },
     "execution_count": 101,
     "metadata": {},
     "output_type": "execute_result"
    }
   ],
   "source": [
    "scores.sort()\n",
    "scores"
   ]
  },
  {
   "cell_type": "markdown",
   "metadata": {},
   "source": [
    "Here we can see that all of the scores are just about the same, so it doesn't matter which vals we choose for lambda and a\n",
    "\n",
    "This might be happening because of the learning rate? I'm not sure"
   ]
  },
  {
   "cell_type": "code",
   "execution_count": 102,
   "metadata": {},
   "outputs": [
    {
     "name": "stdout",
     "output_type": "stream",
     "text": [
      "Epoch [1000/1000], Loss: 63.75874417831619\n"
     ]
    }
   ],
   "source": [
    "# fit quadratic data to scadlinear model\n",
    "model = SCADLinear(input_size=x_tensor.shape[1], lambda_val= 0.02, a_val= 4) # choosing values\n",
    "model.fit(x_tensor, y_tensor.unsqueeze(1), num_epochs = 1000, learning_rate = 0.215)"
   ]
  },
  {
   "cell_type": "code",
   "execution_count": 103,
   "metadata": {},
   "outputs": [
    {
     "data": {
      "text/plain": [
       "Parameter containing:\n",
       "tensor([[ 14.8451,   4.2556,   1.2872,  -3.9686,   0.8450,   1.1284,   1.3558,\n",
       "          18.4964,   4.9105,   5.8598,   7.1869,   4.5407,  -6.2135,  14.6421,\n",
       "          10.5212,   6.8346, -10.2274,   2.7280,   6.4683,   5.9378,   1.4832,\n",
       "          11.0869,  20.4661,  -9.0207,  -3.3865,  -4.7463,   3.4099,   6.2489,\n",
       "          14.5664,  -2.5893,   6.4458, -11.9239,  -4.5722,  10.4705, -23.9837,\n",
       "           7.1118,  -2.0943,  27.3222,   0.2767,   3.0898,  17.2855,  -4.7188,\n",
       "          19.0477, -45.6391]], dtype=torch.float64, requires_grad=True)"
      ]
     },
     "execution_count": 103,
     "metadata": {},
     "output_type": "execute_result"
    }
   ],
   "source": [
    "# get coefficients\n",
    "coef = model.get_coefficients()\n",
    "coef"
   ]
  },
  {
   "cell_type": "code",
   "execution_count": 104,
   "metadata": {},
   "outputs": [
    {
     "name": "stdout",
     "output_type": "stream",
     "text": [
      "Epoch [1000/1000], Loss: 50.10614966080122\n",
      "215.9862802652697\n",
      "Epoch [1000/1000], Loss: 56.09982575630228\n",
      "138.86316411573262\n",
      "Epoch [1000/1000], Loss: 59.88120154545312\n",
      "239.34968094487593\n",
      "Epoch [1000/1000], Loss: 53.22396082342516\n",
      "86.28806132481164\n",
      "Epoch [1000/1000], Loss: 54.92912078239388\n",
      "442.2550199311224\n",
      "Epoch [1000/1000], Loss: 59.849972549227864\n",
      "164.93814655163155\n",
      "Epoch [1000/1000], Loss: 60.20806535282083\n",
      "215.4176228714256\n",
      "Epoch [1000/1000], Loss: 58.550180462183604\n",
      "100.42544716217817\n",
      "Epoch [1000/1000], Loss: 59.27179346990425\n",
      "305.9166178711234\n",
      "Epoch [1000/1000], Loss: 59.90565740786691\n",
      "2647.3652315482937\n"
     ]
    }
   ],
   "source": [
    "scores = [] # store scores\n",
    "threshold = 0.01 # close to 0 threshold when counting number of coefficients\n",
    "coefficients_counted = [] # store number of coefficients counted in the model\n",
    "\n",
    "# run k-fold cross-validation\n",
    "kf = KFold(n_splits = 10)\n",
    "for train_index, test_index in kf.split(x):\n",
    "    x_train, x_test = x_polynomial[train_index], x_polynomial[test_index]\n",
    "    y_train, y_test = y[train_index], y[test_index]\n",
    "\n",
    "    x_train_scale = scaler.fit_transform(x_train)\n",
    "    x_test_scale = scaler.fit_transform(x_test)\n",
    "\n",
    "    model.fit(torch.tensor(x_train_scale), torch.tensor(y_train).unsqueeze(1), num_epochs = 1000, learning_rate = 0.2)\n",
    "    y_predicted = model.predict(torch.tensor(x_test_scale))\n",
    "    print(mse(y_test, y_predicted.detach().numpy()))\n",
    "\n",
    "    # detach for values\n",
    "    coef_np = model.get_coefficients().detach().numpy()\n",
    "    # append values\n",
    "    coefficients_counted.append(np.sum(np.abs(coef_np) > threshold))\n",
    "    # append scores\n",
    "    scores.append(mse(y_test, y_predicted.detach().numpy()))"
   ]
  },
  {
   "cell_type": "code",
   "execution_count": 105,
   "metadata": {},
   "outputs": [
    {
     "name": "stdout",
     "output_type": "stream",
     "text": [
      "Cross-validated scores: [215.9862802652697, 138.86316411573262, 239.34968094487593, 86.28806132481164, 442.2550199311224, 164.93814655163155, 215.4176228714256, 100.42544716217817, 305.9166178711234, 2647.3652315482937]\n",
      "Best number of coefficients: [44, 44, 44, 44, 44, 44, 44, 44, 44, 44]\n"
     ]
    }
   ],
   "source": [
    "# print scores and num coefficients counted in the model\n",
    "print(f'Cross-validated scores: {scores}')\n",
    "print(f'Best number of coefficients: {coefficients_counted}')"
   ]
  },
  {
   "cell_type": "markdown",
   "metadata": {},
   "source": [
    "#### Figure for part 3"
   ]
  },
  {
   "cell_type": "code",
   "execution_count": 106,
   "metadata": {},
   "outputs": [
    {
     "data": {
      "text/plain": [
       "(40.0, 45.0)"
      ]
     },
     "execution_count": 106,
     "metadata": {},
     "output_type": "execute_result"
    },
    {
     "data": {
      "image/png": "[encoded data removed]",
      "text/plain": [
       "<Figure size 640x480 with 1 Axes>"
      ]
     },
     "metadata": {},
     "output_type": "display_data"
    }
   ],
   "source": [
    "fig, ax = plt.subplots()\n",
    "ax.scatter(coefficients_counted, scores)\n",
    "plt.xlabel('Best number of coefficients')\n",
    "plt.ylabel('Score')\n",
    "plt.xlim([40, 45])"
   ]
  }
 ],
 "metadata": {
  "kernelspec": {
   "display_name": "base",
   "language": "python",
   "name": "python3"
  },
  "language_info": {
   "codemirror_mode": {
    "name": "ipython",
    "version": 3
   },
   "file_extension": ".py",
   "mimetype": "text/x-python",
   "name": "python",
   "nbconvert_exporter": "python",
   "pygments_lexer": "ipython3",
   "version": "3.11.5"
  }
 },
 "nbformat": 4,
 "nbformat_minor": 2
}
